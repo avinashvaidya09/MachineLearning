{
 "cells": [
  {
   "cell_type": "markdown",
   "metadata": {},
   "source": [
    "# Predicting Healthy Food"
   ]
  },
  {
   "cell_type": "markdown",
   "metadata": {},
   "source": [
    "##### 1. Import Libraries"
   ]
  },
  {
   "cell_type": "code",
   "execution_count": 1,
   "metadata": {},
   "outputs": [],
   "source": [
    "import pandas as pd # works with the tabular data\n",
    "import numpy as np # works with the numerical data"
   ]
  },
  {
   "cell_type": "markdown",
   "metadata": {},
   "source": [
    "##### 2. Load and review data"
   ]
  },
  {
   "cell_type": "code",
   "execution_count": 2,
   "metadata": {},
   "outputs": [],
   "source": [
    "import csv\n",
    "\n",
    "mood_arr = ['Happy','Sad','OK']\n",
    "energy_arr = ['High','Low','Exhausted']\n",
    "mindset_arr = ['Focused','Distracted','Calm','Stressed']\n",
    "cravings_arr = ['Sweet', 'Junk', 'Spicy']\n",
    "health_goals_arr = ['Increase Muscles', 'Reduce Weight', 'Increase Weight']\n",
    "food_choices_arr = ['Burger', 'Burger & Juice', 'Burger & Energy Drink', 'Burger & Ice Cream', \n",
    "                    'Mediterrenean wrap & Juice', 'Mediterrenean wrap', 'Mediterrenean wrap with Cheese', \n",
    "                    'Mediterrenean wrap & Ice Cream', 'Salad with Protein & Juice']\n",
    "\n",
    "\n",
    "with open('./data/food_choices.csv', 'w', newline='') as file:\n",
    "    writer = csv.writer(file)\n",
    "    writer.writerow(['mood', 'energy', 'mindset', 'cravings', 'health_goals', 'food_choices'])\n",
    "    for mood in mood_arr:\n",
    "        for energy in energy_arr:\n",
    "            for mindset in mindset_arr:\n",
    "                for craving in cravings_arr:\n",
    "                    for health_goal in health_goals_arr:\n",
    "                        food_choice = 'Salad with Protein & Juice'\n",
    "                        if(mood == 'Sad' and (energy in ('Low','Exhausted') or mindset in ('Distracted','Stressed')) and health_goal == 'Reduce Weight'):\n",
    "                            food_choice = 'Mediterrenean wrap & Ice Cream'\n",
    "                        elif(mood in ('Sad','OK') and ((energy in ('High')) and health_goal in ('Reduce Weight','Increase Muscles'))):\n",
    "                            food_choice = 'Mediterrenean wrap & Juice'\n",
    "                        elif(mood == 'OK' and health_goal in ('Increase Muscles')):\n",
    "                            food_choice = 'Mediterrenean wrap with Cheese'\n",
    "                        elif(mood in ('OK','Sad') and (energy in ('Exhausted','Low') or mindset in ('Distracted','Stressed') and health_goal in ('Reduce Weight','Increase Muscles'))):\n",
    "                            food_choice = 'Burger & Energy Drink'\n",
    "                        elif(mood == 'Sad' and (health_goal in ('Increase Weight'))):\n",
    "                            food_choice = 'Burger & Ice Cream'\n",
    "                        # add food choice\n",
    "                        writer.writerow([mood, energy, mindset, craving, health_goal, food_choice])\n",
    "\n"
   ]
  },
  {
   "cell_type": "code",
   "execution_count": 3,
   "metadata": {},
   "outputs": [],
   "source": [
    "df = pd.read_csv(\"./data/food_choices.csv\", sep=\",\")"
   ]
  },
  {
   "cell_type": "code",
   "execution_count": 4,
   "metadata": {},
   "outputs": [
    {
     "data": {
      "text/plain": [
       "(324, 6)"
      ]
     },
     "execution_count": 4,
     "metadata": {},
     "output_type": "execute_result"
    }
   ],
   "source": [
    "df.shape"
   ]
  },
  {
   "cell_type": "code",
   "execution_count": 5,
   "metadata": {},
   "outputs": [
    {
     "data": {
      "text/html": [
       "<div>\n",
       "<style scoped>\n",
       "    .dataframe tbody tr th:only-of-type {\n",
       "        vertical-align: middle;\n",
       "    }\n",
       "\n",
       "    .dataframe tbody tr th {\n",
       "        vertical-align: top;\n",
       "    }\n",
       "\n",
       "    .dataframe thead th {\n",
       "        text-align: right;\n",
       "    }\n",
       "</style>\n",
       "<table border=\"1\" class=\"dataframe\">\n",
       "  <thead>\n",
       "    <tr style=\"text-align: right;\">\n",
       "      <th></th>\n",
       "      <th>mood</th>\n",
       "      <th>energy</th>\n",
       "      <th>mindset</th>\n",
       "      <th>cravings</th>\n",
       "      <th>health_goals</th>\n",
       "      <th>food_choices</th>\n",
       "    </tr>\n",
       "  </thead>\n",
       "  <tbody>\n",
       "    <tr>\n",
       "      <th>0</th>\n",
       "      <td>Happy</td>\n",
       "      <td>High</td>\n",
       "      <td>Focused</td>\n",
       "      <td>Sweet</td>\n",
       "      <td>Increase Muscles</td>\n",
       "      <td>Salad with Protein &amp; Juice</td>\n",
       "    </tr>\n",
       "    <tr>\n",
       "      <th>1</th>\n",
       "      <td>Happy</td>\n",
       "      <td>High</td>\n",
       "      <td>Focused</td>\n",
       "      <td>Sweet</td>\n",
       "      <td>Reduce Weight</td>\n",
       "      <td>Salad with Protein &amp; Juice</td>\n",
       "    </tr>\n",
       "    <tr>\n",
       "      <th>2</th>\n",
       "      <td>Happy</td>\n",
       "      <td>High</td>\n",
       "      <td>Focused</td>\n",
       "      <td>Sweet</td>\n",
       "      <td>Increase Weight</td>\n",
       "      <td>Salad with Protein &amp; Juice</td>\n",
       "    </tr>\n",
       "    <tr>\n",
       "      <th>3</th>\n",
       "      <td>Happy</td>\n",
       "      <td>High</td>\n",
       "      <td>Focused</td>\n",
       "      <td>Junk</td>\n",
       "      <td>Increase Muscles</td>\n",
       "      <td>Salad with Protein &amp; Juice</td>\n",
       "    </tr>\n",
       "    <tr>\n",
       "      <th>4</th>\n",
       "      <td>Happy</td>\n",
       "      <td>High</td>\n",
       "      <td>Focused</td>\n",
       "      <td>Junk</td>\n",
       "      <td>Reduce Weight</td>\n",
       "      <td>Salad with Protein &amp; Juice</td>\n",
       "    </tr>\n",
       "  </tbody>\n",
       "</table>\n",
       "</div>"
      ],
      "text/plain": [
       "    mood energy  mindset cravings      health_goals  \\\n",
       "0  Happy   High  Focused    Sweet  Increase Muscles   \n",
       "1  Happy   High  Focused    Sweet     Reduce Weight   \n",
       "2  Happy   High  Focused    Sweet   Increase Weight   \n",
       "3  Happy   High  Focused     Junk  Increase Muscles   \n",
       "4  Happy   High  Focused     Junk     Reduce Weight   \n",
       "\n",
       "                 food_choices  \n",
       "0  Salad with Protein & Juice  \n",
       "1  Salad with Protein & Juice  \n",
       "2  Salad with Protein & Juice  \n",
       "3  Salad with Protein & Juice  \n",
       "4  Salad with Protein & Juice  "
      ]
     },
     "execution_count": 5,
     "metadata": {},
     "output_type": "execute_result"
    }
   ],
   "source": [
    "df.head(5)"
   ]
  },
  {
   "cell_type": "markdown",
   "metadata": {},
   "source": [
    "##### 3. Map String data to int as fit()/predict() method needs float/int"
   ]
  },
  {
   "cell_type": "code",
   "execution_count": 6,
   "metadata": {},
   "outputs": [
    {
     "data": {
      "text/html": [
       "<div>\n",
       "<style scoped>\n",
       "    .dataframe tbody tr th:only-of-type {\n",
       "        vertical-align: middle;\n",
       "    }\n",
       "\n",
       "    .dataframe tbody tr th {\n",
       "        vertical-align: top;\n",
       "    }\n",
       "\n",
       "    .dataframe thead th {\n",
       "        text-align: right;\n",
       "    }\n",
       "</style>\n",
       "<table border=\"1\" class=\"dataframe\">\n",
       "  <thead>\n",
       "    <tr style=\"text-align: right;\">\n",
       "      <th></th>\n",
       "      <th>mood</th>\n",
       "      <th>energy</th>\n",
       "      <th>mindset</th>\n",
       "      <th>cravings</th>\n",
       "      <th>health_goals</th>\n",
       "      <th>food_choices</th>\n",
       "    </tr>\n",
       "  </thead>\n",
       "  <tbody>\n",
       "    <tr>\n",
       "      <th>0</th>\n",
       "      <td>1</td>\n",
       "      <td>4</td>\n",
       "      <td>7</td>\n",
       "      <td>11</td>\n",
       "      <td>15</td>\n",
       "      <td>26</td>\n",
       "    </tr>\n",
       "    <tr>\n",
       "      <th>1</th>\n",
       "      <td>1</td>\n",
       "      <td>4</td>\n",
       "      <td>7</td>\n",
       "      <td>11</td>\n",
       "      <td>16</td>\n",
       "      <td>26</td>\n",
       "    </tr>\n",
       "    <tr>\n",
       "      <th>2</th>\n",
       "      <td>1</td>\n",
       "      <td>4</td>\n",
       "      <td>7</td>\n",
       "      <td>11</td>\n",
       "      <td>17</td>\n",
       "      <td>26</td>\n",
       "    </tr>\n",
       "    <tr>\n",
       "      <th>3</th>\n",
       "      <td>1</td>\n",
       "      <td>4</td>\n",
       "      <td>7</td>\n",
       "      <td>12</td>\n",
       "      <td>15</td>\n",
       "      <td>26</td>\n",
       "    </tr>\n",
       "    <tr>\n",
       "      <th>4</th>\n",
       "      <td>1</td>\n",
       "      <td>4</td>\n",
       "      <td>7</td>\n",
       "      <td>12</td>\n",
       "      <td>16</td>\n",
       "      <td>26</td>\n",
       "    </tr>\n",
       "  </tbody>\n",
       "</table>\n",
       "</div>"
      ],
      "text/plain": [
       "   mood  energy  mindset  cravings  health_goals  food_choices\n",
       "0     1       4        7        11            15            26\n",
       "1     1       4        7        11            16            26\n",
       "2     1       4        7        11            17            26\n",
       "3     1       4        7        12            15            26\n",
       "4     1       4        7        12            16            26"
      ]
     },
     "execution_count": 6,
     "metadata": {},
     "output_type": "execute_result"
    }
   ],
   "source": [
    "df.head(5)\n",
    "\n",
    "mood_map = {'Happy':1,'Sad':2,'OK':3}\n",
    "energy_map = {'High':4,'Low':5,'Exhausted':6}\n",
    "mindset_map = {'Focused':7, 'Distracted':8, 'Calm':9, 'Stressed':10}\n",
    "cravings_map = {'Sweet':11, 'Junk':12, 'Spicy':13}\n",
    "health_goals_map = {'Increase Muscles':15, 'Reduce Weight':16, 'Increase Weight':17}\n",
    "food_choices_map = {'Burger':18, 'Burger & Juice':19, 'Burger & Energy Drink':20, 'Burger & Ice Cream':21, \n",
    "                    'Mediterrenean wrap & Juice':22, 'Mediterrenean wrap':23, 'Mediterrenean wrap with Cheese':24, \n",
    "                    'Mediterrenean wrap & Ice Cream':25, 'Salad with Protein & Juice':26}\n",
    "\n",
    "df[\"mood\"] = df[\"mood\"].map(mood_map)\n",
    "df['energy'] = df['energy'].map(energy_map)\n",
    "df['mindset'] = df['mindset'].map(mindset_map)\n",
    "df['cravings'] = df['cravings'].map(cravings_map)\n",
    "df['health_goals'] = df['health_goals'].map(health_goals_map)\n",
    "df['food_choices'] = df['food_choices'].map(food_choices_map)\n",
    "\n",
    "df.head(5)"
   ]
  },
  {
   "cell_type": "markdown",
   "metadata": {},
   "source": [
    "##### 4. Check Food Choices\n",
    "\n",
    "##### Splitting the data - 70% train and 30% test - As per recommendation"
   ]
  },
  {
   "cell_type": "code",
   "execution_count": 7,
   "metadata": {},
   "outputs": [],
   "source": [
    "from sklearn.model_selection import train_test_split\n",
    "\n",
    "feature_col_names = ['mood','energy','mindset','cravings','health_goals']\n",
    "predicted_class_names = ['food_choices']\n",
    "\n",
    "X = df[feature_col_names].values \n",
    "Y = df[predicted_class_names].values \n",
    "\n",
    "split_test_size = 0.30\n",
    "\n",
    "X_train, X_test, Y_train, Y_test = train_test_split(X, Y, test_size=split_test_size, random_state=42) # 42 is seed for random number generation. Kept as recommended"
   ]
  },
  {
   "cell_type": "markdown",
   "metadata": {},
   "source": [
    "##### 5. Training Algorithm - Naive Bayes\n",
    "###### - It is simple and easy to implement.\n",
    "###### - It doesn't require as much training data.\n",
    "###### - It is fast and can be used to make real-time predictions."
   ]
  },
  {
   "cell_type": "code",
   "execution_count": 8,
   "metadata": {},
   "outputs": [
    {
     "data": {
      "text/html": [
       "<style>#sk-container-id-1 {color: black;background-color: white;}#sk-container-id-1 pre{padding: 0;}#sk-container-id-1 div.sk-toggleable {background-color: white;}#sk-container-id-1 label.sk-toggleable__label {cursor: pointer;display: block;width: 100%;margin-bottom: 0;padding: 0.3em;box-sizing: border-box;text-align: center;}#sk-container-id-1 label.sk-toggleable__label-arrow:before {content: \"▸\";float: left;margin-right: 0.25em;color: #696969;}#sk-container-id-1 label.sk-toggleable__label-arrow:hover:before {color: black;}#sk-container-id-1 div.sk-estimator:hover label.sk-toggleable__label-arrow:before {color: black;}#sk-container-id-1 div.sk-toggleable__content {max-height: 0;max-width: 0;overflow: hidden;text-align: left;background-color: #f0f8ff;}#sk-container-id-1 div.sk-toggleable__content pre {margin: 0.2em;color: black;border-radius: 0.25em;background-color: #f0f8ff;}#sk-container-id-1 input.sk-toggleable__control:checked~div.sk-toggleable__content {max-height: 200px;max-width: 100%;overflow: auto;}#sk-container-id-1 input.sk-toggleable__control:checked~label.sk-toggleable__label-arrow:before {content: \"▾\";}#sk-container-id-1 div.sk-estimator input.sk-toggleable__control:checked~label.sk-toggleable__label {background-color: #d4ebff;}#sk-container-id-1 div.sk-label input.sk-toggleable__control:checked~label.sk-toggleable__label {background-color: #d4ebff;}#sk-container-id-1 input.sk-hidden--visually {border: 0;clip: rect(1px 1px 1px 1px);clip: rect(1px, 1px, 1px, 1px);height: 1px;margin: -1px;overflow: hidden;padding: 0;position: absolute;width: 1px;}#sk-container-id-1 div.sk-estimator {font-family: monospace;background-color: #f0f8ff;border: 1px dotted black;border-radius: 0.25em;box-sizing: border-box;margin-bottom: 0.5em;}#sk-container-id-1 div.sk-estimator:hover {background-color: #d4ebff;}#sk-container-id-1 div.sk-parallel-item::after {content: \"\";width: 100%;border-bottom: 1px solid gray;flex-grow: 1;}#sk-container-id-1 div.sk-label:hover label.sk-toggleable__label {background-color: #d4ebff;}#sk-container-id-1 div.sk-serial::before {content: \"\";position: absolute;border-left: 1px solid gray;box-sizing: border-box;top: 0;bottom: 0;left: 50%;z-index: 0;}#sk-container-id-1 div.sk-serial {display: flex;flex-direction: column;align-items: center;background-color: white;padding-right: 0.2em;padding-left: 0.2em;position: relative;}#sk-container-id-1 div.sk-item {position: relative;z-index: 1;}#sk-container-id-1 div.sk-parallel {display: flex;align-items: stretch;justify-content: center;background-color: white;position: relative;}#sk-container-id-1 div.sk-item::before, #sk-container-id-1 div.sk-parallel-item::before {content: \"\";position: absolute;border-left: 1px solid gray;box-sizing: border-box;top: 0;bottom: 0;left: 50%;z-index: -1;}#sk-container-id-1 div.sk-parallel-item {display: flex;flex-direction: column;z-index: 1;position: relative;background-color: white;}#sk-container-id-1 div.sk-parallel-item:first-child::after {align-self: flex-end;width: 50%;}#sk-container-id-1 div.sk-parallel-item:last-child::after {align-self: flex-start;width: 50%;}#sk-container-id-1 div.sk-parallel-item:only-child::after {width: 0;}#sk-container-id-1 div.sk-dashed-wrapped {border: 1px dashed gray;margin: 0 0.4em 0.5em 0.4em;box-sizing: border-box;padding-bottom: 0.4em;background-color: white;}#sk-container-id-1 div.sk-label label {font-family: monospace;font-weight: bold;display: inline-block;line-height: 1.2em;}#sk-container-id-1 div.sk-label-container {text-align: center;}#sk-container-id-1 div.sk-container {/* jupyter's `normalize.less` sets `[hidden] { display: none; }` but bootstrap.min.css set `[hidden] { display: none !important; }` so we also need the `!important` here to be able to override the default hidden behavior on the sphinx rendered scikit-learn.org. See: https://github.com/scikit-learn/scikit-learn/issues/21755 */display: inline-block !important;position: relative;}#sk-container-id-1 div.sk-text-repr-fallback {display: none;}</style><div id=\"sk-container-id-1\" class=\"sk-top-container\"><div class=\"sk-text-repr-fallback\"><pre>GaussianNB()</pre><b>In a Jupyter environment, please rerun this cell to show the HTML representation or trust the notebook. <br />On GitHub, the HTML representation is unable to render, please try loading this page with nbviewer.org.</b></div><div class=\"sk-container\" hidden><div class=\"sk-item\"><div class=\"sk-estimator sk-toggleable\"><input class=\"sk-toggleable__control sk-hidden--visually\" id=\"sk-estimator-id-1\" type=\"checkbox\" checked><label for=\"sk-estimator-id-1\" class=\"sk-toggleable__label sk-toggleable__label-arrow\">GaussianNB</label><div class=\"sk-toggleable__content\"><pre>GaussianNB()</pre></div></div></div></div></div>"
      ],
      "text/plain": [
       "GaussianNB()"
      ]
     },
     "execution_count": 8,
     "metadata": {},
     "output_type": "execute_result"
    }
   ],
   "source": [
    "from sklearn.naive_bayes import GaussianNB\n",
    "\n",
    "nb_model = GaussianNB()\n",
    "\n",
    "nb_model.fit(X_train, Y_train.ravel())"
   ]
  },
  {
   "cell_type": "markdown",
   "metadata": {},
   "source": [
    "##### 6. Performance of training data"
   ]
  },
  {
   "cell_type": "code",
   "execution_count": 9,
   "metadata": {},
   "outputs": [
    {
     "name": "stdout",
     "output_type": "stream",
     "text": [
      "Accuracy: 0.8186\n"
     ]
    }
   ],
   "source": [
    "# predict values using training data\n",
    "nb_predict_train = nb_model.predict(X_train)\n",
    "\n",
    "# import performance metrics library\n",
    "from sklearn import metrics\n",
    "\n",
    "# Measure accuracy\n",
    "print(\"Accuracy: {0:.4f}\".format(metrics.accuracy_score(Y_train, nb_predict_train)))"
   ]
  },
  {
   "cell_type": "markdown",
   "metadata": {},
   "source": [
    "##### 7. Performace of testing data"
   ]
  },
  {
   "cell_type": "code",
   "execution_count": 10,
   "metadata": {},
   "outputs": [
    {
     "name": "stdout",
     "output_type": "stream",
     "text": [
      "Accuracy: 0.7449\n"
     ]
    }
   ],
   "source": [
    "# predict values using training data\n",
    "nb_predict_test = nb_model.predict(X_test)\n",
    "\n",
    "# import performance metrics library\n",
    "from sklearn import metrics\n",
    "\n",
    "# Measure accuracy\n",
    "print(\"Accuracy: {0:.4f}\".format(metrics.accuracy_score(Y_test, nb_predict_test)))"
   ]
  },
  {
   "cell_type": "markdown",
   "metadata": {},
   "source": []
  },
  {
   "cell_type": "markdown",
   "metadata": {},
   "source": [
    "##### 7. Validating Real Data"
   ]
  },
  {
   "cell_type": "code",
   "execution_count": 11,
   "metadata": {},
   "outputs": [
    {
     "name": "stdout",
     "output_type": "stream",
     "text": [
      "Your Food For Today : ***  Salad with Protein & Juice  ***\n",
      "Healthy Tip of the day: ***  Morning is good time for workout ***\n"
     ]
    }
   ],
   "source": [
    "input_mood = str(input(\"How are you feeling today? (Happy, Sad or OK)\"))\n",
    "input_energy = str(input(\"How is your energy level today? (High, Low, Exhausted)\"))\n",
    "input_mindset = str(input(\"How is your mindset today? ('Focused','Distracted','Calm','Stressed')\"))\n",
    "input_cravings = str(input(\"What are you craving for today? ('Sweet', 'Junk', 'Spicy')\"))\n",
    "input_health_goals = str(input(\"What are your health goals? ('Increase Muscles', 'Reduce Weight', 'Increase Weight')\"))\n",
    "\n",
    "\n",
    "if len(input_mood) == 0:\n",
    "    input_mood = \"OK\"\n",
    "if len(input_energy) == 0:\n",
    "    input_energy = \"High\"\n",
    "if len(input_mindset) == 0:\n",
    "    input_mindset = \"Calm\"\n",
    "if len(input_cravings) == 0:\n",
    "    input_cravings = \"Junk\"\n",
    "if len(input_health_goals) == 0:\n",
    "    input_health_goals = \"Reduce Weight\"\n",
    "\n",
    "\n",
    "mood_map = {'Happy':1,'Sad':2,'OK':3}\n",
    "energy_map = {'High':4,'Low':5,'Exhausted':6}\n",
    "mindset_map = {'Focused':7, 'Distracted':8, 'Calm':9, 'Stressed':10}\n",
    "cravings_map = {'Sweet':11, 'Junk':12, 'Spicy':13}\n",
    "health_goals_map = {'Increase Muscles':15, 'Reduce Weight':16, 'Increase Weight':17}\n",
    "\n",
    "food_choices_inverse_map = {18:'Burger', 19:'Burger & Juice', 20:'Burger & Energy Drink', 21:'Burger & Ice Cream', \n",
    "                    22:'Mediterrenean wrap & Juice', 23:'Mediterrenean wrap', 24:'Mediterrenean wrap with Cheese', \n",
    "                    25:'Mediterrenean wrap & Ice Cream', 26:'Salad with Protein & Juice'}\n",
    "\n",
    "health_tip_map = {18:'Eat Less Walk More', 19:'Take a bite and walk', 20:'Run', 21:'Burn some calories today evening', \n",
    "                    22:'A quick 15 minutes walk is good for your health', 23:'Meditation is good for your health', 24:'Try some new activity today', \n",
    "                    25:'Swimming is good in summer', 26:'Morning is good time for workout'\n",
    "}\n",
    "\n",
    "input_arr = [[mood_map[input_mood], energy_map[input_energy],mindset_map[input_mindset],cravings_map[input_cravings],health_goals_map[input_health_goals]]]\n",
    "\n",
    "nb_predict_real_data = nb_model.predict(input_arr)\n",
    "\n",
    "print(\"Your Food For Today : *** \", food_choices_inverse_map[nb_predict_real_data[0]], \" ***\")\n",
    "\n",
    "print(\"Healthy Tip of the day: *** \", health_tip_map[nb_predict_real_data[0]] ,\"***\")\n"
   ]
  },
  {
   "cell_type": "markdown",
   "metadata": {},
   "source": []
  },
  {
   "cell_type": "markdown",
   "metadata": {},
   "source": [
    "##### 8. Saving trained model"
   ]
  },
  {
   "cell_type": "code",
   "execution_count": 12,
   "metadata": {},
   "outputs": [
    {
     "data": {
      "text/plain": [
       "['joblib_NB_Trained_Model.pkl']"
      ]
     },
     "execution_count": 12,
     "metadata": {},
     "output_type": "execute_result"
    }
   ],
   "source": [
    "import joblib\n",
    "\n",
    "joblib_file = 'joblib_NB_Trained_Model.pkl'\n",
    "joblib.dump(nb_model, joblib_file)"
   ]
  }
 ],
 "metadata": {
  "interpreter": {
   "hash": "aee8b7b246df8f9039afb4144a1f6fd8d2ca17a180786b69acc140d282b71a49"
  },
  "kernelspec": {
   "display_name": "Python 3.9.7 64-bit",
   "language": "python",
   "name": "python3"
  },
  "language_info": {
   "codemirror_mode": {
    "name": "ipython",
    "version": 3
   },
   "file_extension": ".py",
   "mimetype": "text/x-python",
   "name": "python",
   "nbconvert_exporter": "python",
   "pygments_lexer": "ipython3",
   "version": "3.9.7"
  },
  "orig_nbformat": 4
 },
 "nbformat": 4,
 "nbformat_minor": 2
}
