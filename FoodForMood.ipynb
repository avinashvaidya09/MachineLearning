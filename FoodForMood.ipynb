{
 "cells": [
  {
   "cell_type": "markdown",
   "metadata": {},
   "source": [
    "# Predicting Healthy Food"
   ]
  },
  {
   "cell_type": "markdown",
   "metadata": {},
   "source": [
    "##### 1. Import Libraries"
   ]
  },
  {
   "cell_type": "code",
   "execution_count": null,
   "metadata": {},
   "outputs": [],
   "source": [
    "import pandas as pd # works with the tabular data\n",
    "import numpy as np # works with the numerical data"
   ]
  },
  {
   "cell_type": "markdown",
   "metadata": {},
   "source": [
    "##### 2. Load and review data"
   ]
  },
  {
   "cell_type": "code",
   "execution_count": null,
   "metadata": {},
   "outputs": [],
   "source": [
    "import csv\n",
    "\n",
    "mood_arr = ['Happy','Sad','OK','Angry']\n",
    "energy_arr = ['High','Low','Exhausted','Energized']\n",
    "mindset_arr = ['Focused','Distracted','Calm','Stressed']\n",
    "cravings_arr = ['Sweet', 'Junk', 'Spicy','Healthy']\n",
    "health_goals_arr = ['LowSugar','HighCalorie','LowCalorie','LowCarb']\n",
    "food_choices_arr = ['Tuna salad & Green tea', 'Burger & Juice', 'Burger & Energy Drink', 'Burger & Ice Cream', \n",
    "                    'Mediterrenean wrap & Juice', 'Mediterrenean wrap & Cheese', \n",
    "                    'Mediterrenean wrap & Ice Cream', 'Salad with Protein & Juice','Croissant & Smoothie']\n",
    "# Add some food choices\n",
    "\n",
    "with open('./data/food_choices.csv', 'w', newline='') as file:\n",
    "    writer = csv.writer(file)\n",
    "    writer.writerow(['mood', 'energy', 'mindset', 'cravings', 'health_goals', 'food_choices'])\n",
    "    for mood in mood_arr:\n",
    "        for energy in energy_arr:\n",
    "            for mindset in mindset_arr:\n",
    "                for craving in cravings_arr:\n",
    "                    for health_goal in health_goals_arr:\n",
    "                        food_choice = 'Salad with Protein & Juice'\n",
    "                        if(mood == 'Sad' and (energy in ('Low','Exhausted') or mindset in ('Distracted','Stressed')) and health_goal == 'LowCalorie'):\n",
    "                            food_choice = 'Mediterrenean wrap & Ice Cream'\n",
    "                        elif(mood in ('Sad','OK') and ((energy in ('High','Energized')) and health_goal in ('LowSugar','LowCalorie','LowCarb'))):\n",
    "                            food_choice = 'Mediterrenean wrap & Juice'\n",
    "                        elif(mood == 'OK' and health_goal in ('HighCalorie')):\n",
    "                            food_choice = 'Mediterrenean wrap & Cheese'\n",
    "                        elif(mood in ('OK','Sad') and (energy in ('Exhausted','Low') or mindset in ('Distracted','Stressed') and health_goal in ('HighCalorie','LowCarb'))):\n",
    "                            food_choice = 'Burger & Energy Drink'\n",
    "                        elif(mood == 'Sad' and (health_goal in ('HighCalorie'))):\n",
    "                            food_choice = 'Burger & Ice Cream'\n",
    "                        elif(mood == 'Angry'):\n",
    "                            food_choice = 'Croissant & Smoothie'\n",
    "                        elif((energy == 'Energized') or (health_goal in ('LowCarb','LowCalorie','LowSugar')) or (mood in ('Happy','OK'))):\n",
    "                            food_choice = 'Tuna salad & Green tea'\n",
    "                        # add food choice\n",
    "                        writer.writerow([mood, energy, mindset, craving, health_goal, food_choice])\n",
    "\n"
   ]
  },
  {
   "cell_type": "code",
   "execution_count": null,
   "metadata": {},
   "outputs": [],
   "source": [
    "df = pd.read_csv(\"./data/food_choices.csv\", sep=\",\")"
   ]
  },
  {
   "cell_type": "code",
   "execution_count": null,
   "metadata": {},
   "outputs": [],
   "source": [
    "df.shape"
   ]
  },
  {
   "cell_type": "code",
   "execution_count": null,
   "metadata": {},
   "outputs": [],
   "source": [
    "df.head(5)"
   ]
  },
  {
   "cell_type": "markdown",
   "metadata": {},
   "source": [
    "##### 3. Map String data to int as fit()/predict() method needs float/int"
   ]
  },
  {
   "cell_type": "code",
   "execution_count": null,
   "metadata": {},
   "outputs": [],
   "source": [
    "df.head(5)\n",
    "\n",
    "mood_map = {'Happy':1,'Sad':2,'OK':3,'Angry':4}\n",
    "energy_map = {'High':5,'Low':6,'Exhausted':7,'Energized':8}\n",
    "mindset_map = {'Focused':9, 'Distracted':10, 'Calm':11, 'Stressed':12}\n",
    "cravings_map = {'Sweet':13, 'Junk':14, 'Spicy':15,'Healthy':16}\n",
    "health_goals_map = {'LowSugar':17, 'HighCalorie':18, 'LowCalorie':19, 'LowCarb':20}\n",
    "food_choices_map = {'Tuna salad & Green tea':21, 'Burger & Juice':22, 'Burger & Energy Drink':23, 'Burger & Ice Cream':24, \n",
    "                    'Mediterrenean wrap & Juice':25, 'Mediterrenean wrap & Cheese':26, \n",
    "                    'Mediterrenean wrap & Ice Cream':27, 'Salad with Protein & Juice':28, 'Croissant & Smoothie':29}\n",
    "\n",
    "df[\"mood\"] = df[\"mood\"].map(mood_map)\n",
    "df['energy'] = df['energy'].map(energy_map)\n",
    "df['mindset'] = df['mindset'].map(mindset_map)\n",
    "df['cravings'] = df['cravings'].map(cravings_map)\n",
    "df['health_goals'] = df['health_goals'].map(health_goals_map)\n",
    "df['food_choices'] = df['food_choices'].map(food_choices_map)\n",
    "\n",
    "df.head(5)"
   ]
  },
  {
   "cell_type": "markdown",
   "metadata": {},
   "source": [
    "##### 4. Check Food Choices\n",
    "\n",
    "##### Splitting the data - 70% train and 30% test - As per recommendation"
   ]
  },
  {
   "cell_type": "code",
   "execution_count": null,
   "metadata": {},
   "outputs": [],
   "source": [
    "from sklearn.model_selection import train_test_split\n",
    "\n",
    "feature_col_names = ['mood','energy','mindset','cravings','health_goals']\n",
    "predicted_class_names = ['food_choices']\n",
    "\n",
    "X = df[feature_col_names].values \n",
    "Y = df[predicted_class_names].values \n",
    "\n",
    "split_test_size = 0.30\n",
    "\n",
    "X_train, X_test, Y_train, Y_test = train_test_split(X, Y, test_size=split_test_size, random_state=42) # 42 is seed for random number generation. Kept as recommended"
   ]
  },
  {
   "cell_type": "markdown",
   "metadata": {},
   "source": [
    "##### 5. Training Algorithm - Naive Bayes\n",
    "###### - It is simple and easy to implement.\n",
    "###### - It doesn't require as much training data.\n",
    "###### - It is fast and can be used to make real-time predictions."
   ]
  },
  {
   "cell_type": "code",
   "execution_count": null,
   "metadata": {},
   "outputs": [],
   "source": [
    "from sklearn.naive_bayes import GaussianNB\n",
    "\n",
    "nb_model = GaussianNB()\n",
    "\n",
    "nb_model.fit(X_train, Y_train.ravel())"
   ]
  },
  {
   "cell_type": "markdown",
   "metadata": {},
   "source": [
    "##### 6. Performance of training data"
   ]
  },
  {
   "cell_type": "code",
   "execution_count": null,
   "metadata": {},
   "outputs": [],
   "source": [
    "# predict values using training data\n",
    "nb_predict_train = nb_model.predict(X_train)\n",
    "\n",
    "# import performance metrics library\n",
    "from sklearn import metrics\n",
    "\n",
    "# Measure accuracy\n",
    "print(\"Accuracy: {0:.4f}\".format(metrics.accuracy_score(Y_train, nb_predict_train)))"
   ]
  },
  {
   "cell_type": "markdown",
   "metadata": {},
   "source": [
    "##### 7. Performace of testing data"
   ]
  },
  {
   "cell_type": "code",
   "execution_count": null,
   "metadata": {},
   "outputs": [],
   "source": [
    "# predict values using training data\n",
    "nb_predict_test = nb_model.predict(X_test)\n",
    "\n",
    "# import performance metrics library\n",
    "from sklearn import metrics\n",
    "\n",
    "# Measure accuracy\n",
    "print(\"Accuracy: {0:.4f}\".format(metrics.accuracy_score(Y_test, nb_predict_test)))"
   ]
  },
  {
   "cell_type": "markdown",
   "metadata": {},
   "source": []
  },
  {
   "cell_type": "markdown",
   "metadata": {},
   "source": [
    "##### 7. Validating Real Data"
   ]
  },
  {
   "cell_type": "code",
   "execution_count": 35,
   "metadata": {},
   "outputs": [],
   "source": [
    "input_mood = str(input(\"How are you feeling today? (Happy, Sad, OK, Angry)\"))\n",
    "input_energy = str(input(\"How is your energy level today? (High, Low, Exhausted, Energized)\"))\n",
    "input_mindset = str(input(\"How is your mindset today? ('Focused','Distracted','Calm','Stressed')\"))\n",
    "input_cravings = str(input(\"What are you craving for today? ('Sweet', 'Junk', 'Spicy','Healthy')\"))\n",
    "input_health_goals = str(input(\"What are your health goals? ('LowSugar','HighCalorie','LowCalorie','LowCarb')\"))\n",
    "\n",
    "\n",
    "if len(input_mood) == 0:\n",
    "    input_mood = \"OK\"\n",
    "if len(input_energy) == 0:\n",
    "    input_energy = \"High\"\n",
    "if len(input_mindset) == 0:\n",
    "    input_mindset = \"Calm\"\n",
    "if len(input_cravings) == 0:\n",
    "    input_cravings = \"Junk\"\n",
    "if len(input_health_goals) == 0:\n",
    "    input_health_goals = \"LowCarb\"\n",
    "\n",
    "\n",
    "mood_map = {'Happy':1,'Sad':2,'OK':3,'Angry':4}\n",
    "energy_map = {'High':5,'Low':6,'Exhausted':7,'Energized':8}\n",
    "mindset_map = {'Focused':9, 'Distracted':10, 'Calm':11, 'Stressed':12}\n",
    "cravings_map = {'Sweet':13, 'Junk':14, 'Spicy':15,'Healthy':16}\n",
    "health_goals_map = {'LowSugar':17, 'HighCalorie':18, 'LowCalorie':19, 'LowCarb':20}\n",
    "\n",
    "food_choices_inverse_map = {21:'Tuna salad & Green tea', 22:'Burger & Juice', 23:'Burger & Energy Drink', 24:'Burger & Ice Cream', \n",
    "                    25:'Mediterrenean wrap & Juice', 26:'Mediterrenean wrap & Cheese', \n",
    "                    27:'Mediterrenean wrap & Ice Cream', 28:'Salad with Protein & Juice', 29:'Croissant & Smoothie'}\n",
    "\n",
    "health_tip_map = {22:'Eat Less Walk More and drink lots of water', 23:'Take a bite and walk a mile', 26:'Burn some calories today evening', \n",
    "                    27:'A quick 15 minutes walk is good for your health', 21:'Meditation is good for your health', 28:'Try some new activity today and relax', \n",
    "                    24:'Swimming is good to burn calories', 25:'Morning is a great time for workout',29:'Keep Breathing and Move On'}\n",
    "\n",
    "input_arr = [[mood_map[input_mood], energy_map[input_energy],mindset_map[input_mindset],cravings_map[input_cravings],health_goals_map[input_health_goals]]]\n",
    "\n",
    "nb_predict_real_data = nb_model.predict(input_arr)\n",
    "\n",
    "print(\"Your Food For Today : *** \", food_choices_inverse_map[nb_predict_real_data[0]], \" ***\")\n",
    "\n",
    "print(\"Healthy Tip of the day: *** \", health_tip_map[nb_predict_real_data[0]] ,\"***\")\n"
   ]
  },
  {
   "cell_type": "markdown",
   "metadata": {},
   "source": []
  },
  {
   "cell_type": "markdown",
   "metadata": {},
   "source": []
  },
  {
   "cell_type": "markdown",
   "metadata": {},
   "source": [
    "##### 8. Saving trained model"
   ]
  },
  {
   "cell_type": "code",
   "execution_count": null,
   "metadata": {},
   "outputs": [],
   "source": [
    "import joblib\n",
    "\n",
    "joblib_file = 'joblib_NB_Trained_Model.pkl'\n",
    "joblib.dump(nb_model, joblib_file)"
   ]
  }
 ],
 "metadata": {
  "interpreter": {
   "hash": "aee8b7b246df8f9039afb4144a1f6fd8d2ca17a180786b69acc140d282b71a49"
  },
  "kernelspec": {
   "display_name": "Python 3.9.7 64-bit",
   "language": "python",
   "name": "python3"
  },
  "language_info": {
   "codemirror_mode": {
    "name": "ipython",
    "version": 3
   },
   "file_extension": ".py",
   "mimetype": "text/x-python",
   "name": "python",
   "nbconvert_exporter": "python",
   "pygments_lexer": "ipython3",
   "version": "3.9.7"
  },
  "orig_nbformat": 4
 },
 "nbformat": 4,
 "nbformat_minor": 2
}
