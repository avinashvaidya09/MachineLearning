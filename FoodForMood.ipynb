{
 "cells": [
  {
   "cell_type": "markdown",
   "metadata": {},
   "source": [
    "# Predicting Healthy Food"
   ]
  },
  {
   "cell_type": "markdown",
   "metadata": {},
   "source": [
    "##### 1. Import Libraries"
   ]
  },
  {
   "cell_type": "code",
   "execution_count": 53,
   "metadata": {},
   "outputs": [],
   "source": [
    "import pandas as pd # works with the tabular data\n",
    "import numpy as np # works with the numerical data"
   ]
  },
  {
   "cell_type": "markdown",
   "metadata": {},
   "source": [
    "##### 2. Load and review data"
   ]
  },
  {
   "cell_type": "code",
   "execution_count": 54,
   "metadata": {},
   "outputs": [],
   "source": [
    "import csv\n",
    "\n",
    "mood_arr = ['Happy','Sad','OK','Angry']\n",
    "energy_arr = ['High','Low','Exhausted','Energized']\n",
    "mindset_arr = ['Focused','Distracted','Calm','Stressed']\n",
    "cravings_arr = ['Sweet', 'Junk', 'Spicy','Healthy']\n",
    "health_goals_arr = ['LowSugar','HighCalorie','LowCalorie','LowCarb']\n",
    "food_choices_arr = ['Tuna salad & Green tea', 'Burger & Juice', 'Burger & Energy Drink', 'Burger & Ice Cream', \n",
    "                    'Mediterrenean wrap & Juice', 'Mediterrenean wrap & Cheese', \n",
    "                    'Mediterrenean wrap & Ice Cream', 'Salad with Protein & Juice','Croissant & Smoothie']\n",
    "# Add some food choices\n",
    "\n",
    "with open('./data/food_choices.csv', 'w', newline='') as file:\n",
    "    writer = csv.writer(file)\n",
    "    writer.writerow(['mood', 'energy', 'mindset', 'cravings', 'health_goals', 'food_choices'])\n",
    "    for mood in mood_arr:\n",
    "        for energy in energy_arr:\n",
    "            for mindset in mindset_arr:\n",
    "                for craving in cravings_arr:\n",
    "                    for health_goal in health_goals_arr:\n",
    "                        food_choice = 'Salad with Protein & Juice'\n",
    "                        if(mood == 'Sad' and (energy in ('Low','Exhausted') or mindset in ('Distracted','Stressed')) and health_goal == 'LowCalorie'):\n",
    "                            food_choice = 'Mediterrenean wrap & Ice Cream'\n",
    "                        elif(mood in ('Sad','OK') and ((energy in ('High','Energized')) and health_goal in ('LowSugar','LowCalorie','LowCarb'))):\n",
    "                            food_choice = 'Mediterrenean wrap & Juice'\n",
    "                        elif(mood == 'OK' and health_goal in ('HighCalorie')):\n",
    "                            food_choice = 'Mediterrenean wrap & Cheese'\n",
    "                        elif(mood in ('OK','Sad') and (energy in ('Exhausted','Low') or mindset in ('Distracted','Stressed') and health_goal in ('HighCalorie','LowCarb'))):\n",
    "                            food_choice = 'Burger & Energy Drink'\n",
    "                        elif(mood == 'Sad' and (health_goal in ('HighCalorie'))):\n",
    "                            food_choice = 'Burger & Ice Cream'\n",
    "                        elif(mood == 'Angry'):\n",
    "                            food_choice = 'Croissant & Smoothie'\n",
    "                        elif((energy == 'Energized') or (health_goal in ('LowCarb','LowCalorie','LowSugar')) or (mood in ('Happy','OK'))):\n",
    "                            food_choice = 'Tuna salad & Green tea'\n",
    "                        # add food choice\n",
    "                        writer.writerow([mood, energy, mindset, craving, health_goal, food_choice])\n",
    "\n"
   ]
  },
  {
   "cell_type": "code",
   "execution_count": 55,
   "metadata": {},
   "outputs": [],
   "source": [
    "df = pd.read_csv(\"./data/food_choices.csv\", sep=\",\")"
   ]
  },
  {
   "cell_type": "code",
   "execution_count": 56,
   "metadata": {},
   "outputs": [
    {
     "data": {
      "text/plain": [
       "(1024, 6)"
      ]
     },
     "execution_count": 56,
     "metadata": {},
     "output_type": "execute_result"
    }
   ],
   "source": [
    "df.shape"
   ]
  },
  {
   "cell_type": "code",
   "execution_count": 57,
   "metadata": {},
   "outputs": [
    {
     "data": {
      "text/html": [
       "<div>\n",
       "<style scoped>\n",
       "    .dataframe tbody tr th:only-of-type {\n",
       "        vertical-align: middle;\n",
       "    }\n",
       "\n",
       "    .dataframe tbody tr th {\n",
       "        vertical-align: top;\n",
       "    }\n",
       "\n",
       "    .dataframe thead th {\n",
       "        text-align: right;\n",
       "    }\n",
       "</style>\n",
       "<table border=\"1\" class=\"dataframe\">\n",
       "  <thead>\n",
       "    <tr style=\"text-align: right;\">\n",
       "      <th></th>\n",
       "      <th>mood</th>\n",
       "      <th>energy</th>\n",
       "      <th>mindset</th>\n",
       "      <th>cravings</th>\n",
       "      <th>health_goals</th>\n",
       "      <th>food_choices</th>\n",
       "    </tr>\n",
       "  </thead>\n",
       "  <tbody>\n",
       "    <tr>\n",
       "      <th>0</th>\n",
       "      <td>Happy</td>\n",
       "      <td>High</td>\n",
       "      <td>Focused</td>\n",
       "      <td>Sweet</td>\n",
       "      <td>LowSugar</td>\n",
       "      <td>Tuna salad &amp; Green tea</td>\n",
       "    </tr>\n",
       "    <tr>\n",
       "      <th>1</th>\n",
       "      <td>Happy</td>\n",
       "      <td>High</td>\n",
       "      <td>Focused</td>\n",
       "      <td>Sweet</td>\n",
       "      <td>HighCalorie</td>\n",
       "      <td>Tuna salad &amp; Green tea</td>\n",
       "    </tr>\n",
       "    <tr>\n",
       "      <th>2</th>\n",
       "      <td>Happy</td>\n",
       "      <td>High</td>\n",
       "      <td>Focused</td>\n",
       "      <td>Sweet</td>\n",
       "      <td>LowCalorie</td>\n",
       "      <td>Tuna salad &amp; Green tea</td>\n",
       "    </tr>\n",
       "    <tr>\n",
       "      <th>3</th>\n",
       "      <td>Happy</td>\n",
       "      <td>High</td>\n",
       "      <td>Focused</td>\n",
       "      <td>Sweet</td>\n",
       "      <td>LowCarb</td>\n",
       "      <td>Tuna salad &amp; Green tea</td>\n",
       "    </tr>\n",
       "    <tr>\n",
       "      <th>4</th>\n",
       "      <td>Happy</td>\n",
       "      <td>High</td>\n",
       "      <td>Focused</td>\n",
       "      <td>Junk</td>\n",
       "      <td>LowSugar</td>\n",
       "      <td>Tuna salad &amp; Green tea</td>\n",
       "    </tr>\n",
       "  </tbody>\n",
       "</table>\n",
       "</div>"
      ],
      "text/plain": [
       "    mood energy  mindset cravings health_goals            food_choices\n",
       "0  Happy   High  Focused    Sweet     LowSugar  Tuna salad & Green tea\n",
       "1  Happy   High  Focused    Sweet  HighCalorie  Tuna salad & Green tea\n",
       "2  Happy   High  Focused    Sweet   LowCalorie  Tuna salad & Green tea\n",
       "3  Happy   High  Focused    Sweet      LowCarb  Tuna salad & Green tea\n",
       "4  Happy   High  Focused     Junk     LowSugar  Tuna salad & Green tea"
      ]
     },
     "execution_count": 57,
     "metadata": {},
     "output_type": "execute_result"
    }
   ],
   "source": [
    "df.head(5)"
   ]
  },
  {
   "cell_type": "markdown",
   "metadata": {},
   "source": [
    "##### 3. Map String data to int as fit()/predict() method needs float/int"
   ]
  },
  {
   "cell_type": "code",
   "execution_count": 58,
   "metadata": {},
   "outputs": [
    {
     "data": {
      "text/html": [
       "<div>\n",
       "<style scoped>\n",
       "    .dataframe tbody tr th:only-of-type {\n",
       "        vertical-align: middle;\n",
       "    }\n",
       "\n",
       "    .dataframe tbody tr th {\n",
       "        vertical-align: top;\n",
       "    }\n",
       "\n",
       "    .dataframe thead th {\n",
       "        text-align: right;\n",
       "    }\n",
       "</style>\n",
       "<table border=\"1\" class=\"dataframe\">\n",
       "  <thead>\n",
       "    <tr style=\"text-align: right;\">\n",
       "      <th></th>\n",
       "      <th>mood</th>\n",
       "      <th>energy</th>\n",
       "      <th>mindset</th>\n",
       "      <th>cravings</th>\n",
       "      <th>health_goals</th>\n",
       "      <th>food_choices</th>\n",
       "    </tr>\n",
       "  </thead>\n",
       "  <tbody>\n",
       "    <tr>\n",
       "      <th>0</th>\n",
       "      <td>1</td>\n",
       "      <td>5</td>\n",
       "      <td>9</td>\n",
       "      <td>13</td>\n",
       "      <td>17</td>\n",
       "      <td>21</td>\n",
       "    </tr>\n",
       "    <tr>\n",
       "      <th>1</th>\n",
       "      <td>1</td>\n",
       "      <td>5</td>\n",
       "      <td>9</td>\n",
       "      <td>13</td>\n",
       "      <td>18</td>\n",
       "      <td>21</td>\n",
       "    </tr>\n",
       "    <tr>\n",
       "      <th>2</th>\n",
       "      <td>1</td>\n",
       "      <td>5</td>\n",
       "      <td>9</td>\n",
       "      <td>13</td>\n",
       "      <td>19</td>\n",
       "      <td>21</td>\n",
       "    </tr>\n",
       "    <tr>\n",
       "      <th>3</th>\n",
       "      <td>1</td>\n",
       "      <td>5</td>\n",
       "      <td>9</td>\n",
       "      <td>13</td>\n",
       "      <td>20</td>\n",
       "      <td>21</td>\n",
       "    </tr>\n",
       "    <tr>\n",
       "      <th>4</th>\n",
       "      <td>1</td>\n",
       "      <td>5</td>\n",
       "      <td>9</td>\n",
       "      <td>14</td>\n",
       "      <td>17</td>\n",
       "      <td>21</td>\n",
       "    </tr>\n",
       "  </tbody>\n",
       "</table>\n",
       "</div>"
      ],
      "text/plain": [
       "   mood  energy  mindset  cravings  health_goals  food_choices\n",
       "0     1       5        9        13            17            21\n",
       "1     1       5        9        13            18            21\n",
       "2     1       5        9        13            19            21\n",
       "3     1       5        9        13            20            21\n",
       "4     1       5        9        14            17            21"
      ]
     },
     "execution_count": 58,
     "metadata": {},
     "output_type": "execute_result"
    }
   ],
   "source": [
    "df.head(5)\n",
    "\n",
    "mood_map = {'Happy':1,'Sad':2,'OK':3,'Angry':4}\n",
    "energy_map = {'High':5,'Low':6,'Exhausted':7,'Energized':8}\n",
    "mindset_map = {'Focused':9, 'Distracted':10, 'Calm':11, 'Stressed':12}\n",
    "cravings_map = {'Sweet':13, 'Junk':14, 'Spicy':15,'Healthy':16}\n",
    "health_goals_map = {'LowSugar':17, 'HighCalorie':18, 'LowCalorie':19, 'LowCarb':20}\n",
    "food_choices_map = {'Tuna salad & Green tea':21, 'Burger & Juice':22, 'Burger & Energy Drink':23, 'Burger & Ice Cream':24, \n",
    "                    'Mediterrenean wrap & Juice':25, 'Mediterrenean wrap & Cheese':26, \n",
    "                    'Mediterrenean wrap & Ice Cream':27, 'Salad with Protein & Juice':28, 'Croissant & Smoothie':29}\n",
    "\n",
    "df[\"mood\"] = df[\"mood\"].map(mood_map)\n",
    "df['energy'] = df['energy'].map(energy_map)\n",
    "df['mindset'] = df['mindset'].map(mindset_map)\n",
    "df['cravings'] = df['cravings'].map(cravings_map)\n",
    "df['health_goals'] = df['health_goals'].map(health_goals_map)\n",
    "df['food_choices'] = df['food_choices'].map(food_choices_map)\n",
    "\n",
    "df.head(5)"
   ]
  },
  {
   "cell_type": "markdown",
   "metadata": {},
   "source": [
    "##### 4. Check Food Choices\n",
    "\n",
    "##### Splitting the data - 70% train and 30% test - As per recommendation"
   ]
  },
  {
   "cell_type": "code",
   "execution_count": 59,
   "metadata": {},
   "outputs": [],
   "source": [
    "from sklearn.model_selection import train_test_split\n",
    "\n",
    "feature_col_names = ['mood','energy','mindset','cravings','health_goals']\n",
    "predicted_class_names = ['food_choices']\n",
    "\n",
    "X = df[feature_col_names].values \n",
    "Y = df[predicted_class_names].values \n",
    "\n",
    "split_test_size = 0.30\n",
    "\n",
    "X_train, X_test, Y_train, Y_test = train_test_split(X, Y, test_size=split_test_size, random_state=42) # 42 is seed for random number generation. Kept as recommended"
   ]
  },
  {
   "cell_type": "markdown",
   "metadata": {},
   "source": [
    "##### 5. Training Algorithm - Naive Bayes\n",
    "###### - It is simple and easy to implement.\n",
    "###### - It doesn't require as much training data.\n",
    "###### - It is fast and can be used to make real-time predictions."
   ]
  },
  {
   "cell_type": "code",
   "execution_count": 60,
   "metadata": {},
   "outputs": [
    {
     "data": {
      "text/html": [
       "<style>#sk-container-id-4 {color: black;background-color: white;}#sk-container-id-4 pre{padding: 0;}#sk-container-id-4 div.sk-toggleable {background-color: white;}#sk-container-id-4 label.sk-toggleable__label {cursor: pointer;display: block;width: 100%;margin-bottom: 0;padding: 0.3em;box-sizing: border-box;text-align: center;}#sk-container-id-4 label.sk-toggleable__label-arrow:before {content: \"▸\";float: left;margin-right: 0.25em;color: #696969;}#sk-container-id-4 label.sk-toggleable__label-arrow:hover:before {color: black;}#sk-container-id-4 div.sk-estimator:hover label.sk-toggleable__label-arrow:before {color: black;}#sk-container-id-4 div.sk-toggleable__content {max-height: 0;max-width: 0;overflow: hidden;text-align: left;background-color: #f0f8ff;}#sk-container-id-4 div.sk-toggleable__content pre {margin: 0.2em;color: black;border-radius: 0.25em;background-color: #f0f8ff;}#sk-container-id-4 input.sk-toggleable__control:checked~div.sk-toggleable__content {max-height: 200px;max-width: 100%;overflow: auto;}#sk-container-id-4 input.sk-toggleable__control:checked~label.sk-toggleable__label-arrow:before {content: \"▾\";}#sk-container-id-4 div.sk-estimator input.sk-toggleable__control:checked~label.sk-toggleable__label {background-color: #d4ebff;}#sk-container-id-4 div.sk-label input.sk-toggleable__control:checked~label.sk-toggleable__label {background-color: #d4ebff;}#sk-container-id-4 input.sk-hidden--visually {border: 0;clip: rect(1px 1px 1px 1px);clip: rect(1px, 1px, 1px, 1px);height: 1px;margin: -1px;overflow: hidden;padding: 0;position: absolute;width: 1px;}#sk-container-id-4 div.sk-estimator {font-family: monospace;background-color: #f0f8ff;border: 1px dotted black;border-radius: 0.25em;box-sizing: border-box;margin-bottom: 0.5em;}#sk-container-id-4 div.sk-estimator:hover {background-color: #d4ebff;}#sk-container-id-4 div.sk-parallel-item::after {content: \"\";width: 100%;border-bottom: 1px solid gray;flex-grow: 1;}#sk-container-id-4 div.sk-label:hover label.sk-toggleable__label {background-color: #d4ebff;}#sk-container-id-4 div.sk-serial::before {content: \"\";position: absolute;border-left: 1px solid gray;box-sizing: border-box;top: 0;bottom: 0;left: 50%;z-index: 0;}#sk-container-id-4 div.sk-serial {display: flex;flex-direction: column;align-items: center;background-color: white;padding-right: 0.2em;padding-left: 0.2em;position: relative;}#sk-container-id-4 div.sk-item {position: relative;z-index: 1;}#sk-container-id-4 div.sk-parallel {display: flex;align-items: stretch;justify-content: center;background-color: white;position: relative;}#sk-container-id-4 div.sk-item::before, #sk-container-id-4 div.sk-parallel-item::before {content: \"\";position: absolute;border-left: 1px solid gray;box-sizing: border-box;top: 0;bottom: 0;left: 50%;z-index: -1;}#sk-container-id-4 div.sk-parallel-item {display: flex;flex-direction: column;z-index: 1;position: relative;background-color: white;}#sk-container-id-4 div.sk-parallel-item:first-child::after {align-self: flex-end;width: 50%;}#sk-container-id-4 div.sk-parallel-item:last-child::after {align-self: flex-start;width: 50%;}#sk-container-id-4 div.sk-parallel-item:only-child::after {width: 0;}#sk-container-id-4 div.sk-dashed-wrapped {border: 1px dashed gray;margin: 0 0.4em 0.5em 0.4em;box-sizing: border-box;padding-bottom: 0.4em;background-color: white;}#sk-container-id-4 div.sk-label label {font-family: monospace;font-weight: bold;display: inline-block;line-height: 1.2em;}#sk-container-id-4 div.sk-label-container {text-align: center;}#sk-container-id-4 div.sk-container {/* jupyter's `normalize.less` sets `[hidden] { display: none; }` but bootstrap.min.css set `[hidden] { display: none !important; }` so we also need the `!important` here to be able to override the default hidden behavior on the sphinx rendered scikit-learn.org. See: https://github.com/scikit-learn/scikit-learn/issues/21755 */display: inline-block !important;position: relative;}#sk-container-id-4 div.sk-text-repr-fallback {display: none;}</style><div id=\"sk-container-id-4\" class=\"sk-top-container\"><div class=\"sk-text-repr-fallback\"><pre>GaussianNB()</pre><b>In a Jupyter environment, please rerun this cell to show the HTML representation or trust the notebook. <br />On GitHub, the HTML representation is unable to render, please try loading this page with nbviewer.org.</b></div><div class=\"sk-container\" hidden><div class=\"sk-item\"><div class=\"sk-estimator sk-toggleable\"><input class=\"sk-toggleable__control sk-hidden--visually\" id=\"sk-estimator-id-4\" type=\"checkbox\" checked><label for=\"sk-estimator-id-4\" class=\"sk-toggleable__label sk-toggleable__label-arrow\">GaussianNB</label><div class=\"sk-toggleable__content\"><pre>GaussianNB()</pre></div></div></div></div></div>"
      ],
      "text/plain": [
       "GaussianNB()"
      ]
     },
     "execution_count": 60,
     "metadata": {},
     "output_type": "execute_result"
    }
   ],
   "source": [
    "from sklearn.naive_bayes import GaussianNB\n",
    "\n",
    "nb_model = GaussianNB()\n",
    "\n",
    "nb_model.fit(X_train, Y_train.ravel())"
   ]
  },
  {
   "cell_type": "markdown",
   "metadata": {},
   "source": [
    "##### 6. Performance of training data"
   ]
  },
  {
   "cell_type": "code",
   "execution_count": 61,
   "metadata": {},
   "outputs": [
    {
     "name": "stdout",
     "output_type": "stream",
     "text": [
      "Accuracy: 0.9469\n"
     ]
    }
   ],
   "source": [
    "# predict values using training data\n",
    "nb_predict_train = nb_model.predict(X_train)\n",
    "\n",
    "# import performance metrics library\n",
    "from sklearn import metrics\n",
    "\n",
    "# Measure accuracy\n",
    "print(\"Accuracy: {0:.4f}\".format(metrics.accuracy_score(Y_train, nb_predict_train)))"
   ]
  },
  {
   "cell_type": "markdown",
   "metadata": {},
   "source": [
    "##### 7. Performace of testing data"
   ]
  },
  {
   "cell_type": "code",
   "execution_count": 62,
   "metadata": {},
   "outputs": [
    {
     "name": "stdout",
     "output_type": "stream",
     "text": [
      "Accuracy: 0.9156\n"
     ]
    }
   ],
   "source": [
    "# predict values using training data\n",
    "nb_predict_test = nb_model.predict(X_test)\n",
    "\n",
    "# import performance metrics library\n",
    "from sklearn import metrics\n",
    "\n",
    "# Measure accuracy\n",
    "print(\"Accuracy: {0:.4f}\".format(metrics.accuracy_score(Y_test, nb_predict_test)))"
   ]
  },
  {
   "cell_type": "markdown",
   "metadata": {},
   "source": []
  },
  {
   "cell_type": "markdown",
   "metadata": {},
   "source": [
    "##### 7. Validating Real Data"
   ]
  },
  {
   "cell_type": "code",
   "execution_count": 51,
   "metadata": {},
   "outputs": [
    {
     "name": "stdout",
     "output_type": "stream",
     "text": [
      "Your Food For Today : ***  Burger & Energy Drink  ***\n",
      "Healthy Tip of the day: ***  Take a bite and walka mile ***\n"
     ]
    }
   ],
   "source": [
    "input_mood = str(input(\"How are you feeling today? (Happy, Sad, OK, Angry)\"))\n",
    "input_energy = str(input(\"How is your energy level today? (High, Low, Exhausted, Energized)\"))\n",
    "input_mindset = str(input(\"How is your mindset today? ('Focused','Distracted','Calm','Stressed')\"))\n",
    "input_cravings = str(input(\"What are you craving for today? ('Sweet', 'Junk', 'Spicy','Healthy')\"))\n",
    "input_health_goals = str(input(\"What are your health goals? ('LowSugar','HighCalorie','LowCalorie','LowCarb')\"))\n",
    "\n",
    "\n",
    "if len(input_mood) == 0:\n",
    "    input_mood = \"OK\"\n",
    "if len(input_energy) == 0:\n",
    "    input_energy = \"High\"\n",
    "if len(input_mindset) == 0:\n",
    "    input_mindset = \"Calm\"\n",
    "if len(input_cravings) == 0:\n",
    "    input_cravings = \"Junk\"\n",
    "if len(input_health_goals) == 0:\n",
    "    input_health_goals = \"LowCarb\"\n",
    "\n",
    "\n",
    "mood_map = {'Happy':1,'Sad':2,'OK':3,'Angry':4}\n",
    "energy_map = {'High':5,'Low':6,'Exhausted':7,'Energized':8}\n",
    "mindset_map = {'Focused':9, 'Distracted':10, 'Calm':11, 'Stressed':12}\n",
    "cravings_map = {'Sweet':13, 'Junk':14, 'Spicy':15,'Healthy':16}\n",
    "health_goals_map = {'LowSugar':17, 'HighCalorie':18, 'LowCalorie':19, 'LowCarb':20}\n",
    "\n",
    "food_choices_inverse_map = {21:'Tuna salad & Green tea', 22:'Burger & Juice', 23:'Burger & Energy Drink', 24:'Burger & Ice Cream', \n",
    "                    25:'Mediterrenean wrap & Juice', 26:'Mediterrenean wrap & Cheese', \n",
    "                    27:'Mediterrenean wrap & Ice Cream', 28:'Salad with Protein & Juice', 29:'Croissant & Smoothie'}\n",
    "\n",
    "health_tip_map = {22:'Eat Less Walk More and drink lots of water', 23:'Take a bite and walk a mile', 26:'Burn some calories today evening', \n",
    "                    27:'A quick 15 minutes walk is good for your health', 21:'Meditation is good for your health', 28:'Try some new activity today and relax', \n",
    "                    24:'Swimming is good to burn calories', 25:'Morning is a great time for workout'}\n",
    "\n",
    "input_arr = [[mood_map[input_mood], energy_map[input_energy],mindset_map[input_mindset],cravings_map[input_cravings],health_goals_map[input_health_goals]]]\n",
    "\n",
    "nb_predict_real_data = nb_model.predict(input_arr)\n",
    "\n",
    "print(\"Your Food For Today : *** \", food_choices_inverse_map[nb_predict_real_data[0]], \" ***\")\n",
    "\n",
    "print(\"Healthy Tip of the day: *** \", health_tip_map[nb_predict_real_data[0]] ,\"***\")\n"
   ]
  },
  {
   "cell_type": "markdown",
   "metadata": {},
   "source": []
  },
  {
   "cell_type": "markdown",
   "metadata": {},
   "source": [
    "##### 8. Saving trained model"
   ]
  },
  {
   "cell_type": "code",
   "execution_count": 52,
   "metadata": {},
   "outputs": [
    {
     "data": {
      "text/plain": [
       "['joblib_NB_Trained_Model.pkl']"
      ]
     },
     "execution_count": 52,
     "metadata": {},
     "output_type": "execute_result"
    }
   ],
   "source": [
    "import joblib\n",
    "\n",
    "joblib_file = 'joblib_NB_Trained_Model.pkl'\n",
    "joblib.dump(nb_model, joblib_file)"
   ]
  }
 ],
 "metadata": {
  "interpreter": {
   "hash": "aee8b7b246df8f9039afb4144a1f6fd8d2ca17a180786b69acc140d282b71a49"
  },
  "kernelspec": {
   "display_name": "Python 3.9.7 64-bit",
   "language": "python",
   "name": "python3"
  },
  "language_info": {
   "codemirror_mode": {
    "name": "ipython",
    "version": 3
   },
   "file_extension": ".py",
   "mimetype": "text/x-python",
   "name": "python",
   "nbconvert_exporter": "python",
   "pygments_lexer": "ipython3",
   "version": "3.9.7"
  },
  "orig_nbformat": 4
 },
 "nbformat": 4,
 "nbformat_minor": 2
}
